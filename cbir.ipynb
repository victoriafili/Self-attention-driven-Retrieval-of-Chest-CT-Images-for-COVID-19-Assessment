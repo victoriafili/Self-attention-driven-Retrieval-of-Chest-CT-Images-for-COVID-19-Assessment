{
 "cells": [
  {
   "cell_type": "code",
   "execution_count": 2,
   "id": "7352f0a1",
   "metadata": {},
   "outputs": [],
   "source": [
    "# Import of basic libraries\n",
    "import tensorflow as tf\n",
    "from tensorflow import keras\n",
    "from glob import glob\n",
    "import numpy as np\n",
    "import os\n",
    "import matplotlib.pyplot as plt\n",
    "from builtins import range, input\n",
    "from tensorflow import keras\n",
    "from tensorflow.keras.models import Model, Sequential, load_model\n",
    "from tensorflow.keras.applications import DenseNet201\n",
    "from tensorflow.keras.applications.densenet import preprocess_input\n",
    "from tensorflow.keras.preprocessing import image\n",
    "from pathlib import Path\n",
    "from PIL import Image\n",
    "\n",
    "# Load the model\n",
    "base_model = keras.models.load_model(\"densenet201_ct.h5\")\n",
    "\n",
    "class FeatureExtractor:\n",
    "    def __init__(self):\n",
    "        base_model = keras.models.load_model(\"densenet201_ct.h5\")\n",
    "        self.model = Model(inputs=base_model.input, outputs=base_model.get_layer('flatten').output)\n",
    "    def extract(self, img):\n",
    "        # Resize the image\n",
    "        img = img.resize((224, 224))\n",
    "        # Convert the image color space\n",
    "        img = img.convert('RGB')\n",
    "        # Reformat the image\n",
    "        x = image.img_to_array(img)\n",
    "        x = np.expand_dims(x, axis=0)\n",
    "        x = preprocess_input(x)\n",
    "        # Extract Features\n",
    "        feature = self.model.predict(x)[0]\n",
    "        return feature / np.linalg.norm(feature)\n",
    "    \n",
    "if __name__ == '__main__':\n",
    "    fe = FeatureExtractor()\n",
    "\n",
    "# This code snippet is used only when .npy files for each image are created.\n",
    "#     for img_path in sorted(Path(\"C:\\\\Users\\\\John\\\\Desktop\\\\deep\\\\kaggle\\\\val_set_kaggle\").glob(\"*.png\")):\n",
    "#         feature = fe.extract(img=Image.open(img_path))\n",
    "#         feature_path = Path(\"C:\\\\Users\\\\John\\\\Desktop\\\\deep\\\\kaggle\\\\val_set_kaggle\") / (img_path.stem + \".npy\")\n",
    "#         np.save(feature_path, feature)\n",
    "#     for img_path in sorted(Path(\"C:\\\\Users\\\\John\\\\Desktop\\\\deep\\\\kaggle\\\\grad_cam_images\").glob(\"*.png\")):\n",
    "#         feature_grad = fe.extract(img=Image.open(img_path))\n",
    "#         feature_path = Path(\"C:\\\\Users\\\\John\\\\Desktop\\\\deep\\\\kaggle\\\\grad_cam_images\") / (img_path.stem + \".npy\")\n",
    "#         np.save(feature_path, feature_grad)"
   ]
  }
 ],
 "metadata": {
  "kernelspec": {
   "display_name": "Python 3 (ipykernel)",
   "language": "python",
   "name": "python3"
  },
  "language_info": {
   "codemirror_mode": {
    "name": "ipython",
    "version": 3
   },
   "file_extension": ".py",
   "mimetype": "text/x-python",
   "name": "python",
   "nbconvert_exporter": "python",
   "pygments_lexer": "ipython3",
   "version": "3.10.4"
  }
 },
 "nbformat": 4,
 "nbformat_minor": 5
}
