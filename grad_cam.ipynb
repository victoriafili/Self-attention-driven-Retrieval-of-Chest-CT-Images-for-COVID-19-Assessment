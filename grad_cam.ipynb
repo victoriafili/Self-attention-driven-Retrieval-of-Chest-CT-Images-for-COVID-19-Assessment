{
 "cells": [
  {
   "cell_type": "code",
   "execution_count": 27,
   "id": "210c0658",
   "metadata": {},
   "outputs": [],
   "source": [
    "# Import of basic libraries\n",
    "import tensorflow as tf\n",
    "from glob import glob\n",
    "import pandas as pd\n",
    "import cv2\n",
    "import os\n",
    "import seaborn as sns\n",
    "import numpy as np\n",
    "import matplotlib.pyplot as plt\n",
    "from builtins import range, input\n",
    "from tensorflow import keras\n",
    "from tensorflow.keras.models import Model, Sequential, load_model\n",
    "from tensorflow.keras.applications import DenseNet201\n",
    "from tensorflow.keras.preprocessing import image"
   ]
  },
  {
   "cell_type": "code",
   "execution_count": 28,
   "id": "d9497edb",
   "metadata": {},
   "outputs": [],
   "source": [
    "# Load saved model\n",
    "model = load_model('densenet201_ct.h5')"
   ]
  },
  {
   "cell_type": "code",
   "execution_count": 29,
   "id": "08147b35",
   "metadata": {},
   "outputs": [],
   "source": [
    "# To run the next few cells create a folder with the 'X_train' images before the preprocess\n",
    "import random\n",
    "\n",
    "img_paths = glob(\".\\\\kaggle\\\\val_set_kaggle\\\\*.png\")\n",
    "img_paths = [(img_paths[index]) for index in random.sample(range(0, len(img_paths)), len(img_paths))]\n",
    "\n",
    "covid = 0\n",
    "non_covid = 0\n",
    "\n",
    "for file in img_paths:\n",
    "    if \"Non-Covid\" in file:\n",
    "        non_covid += 1\n",
    "    else:\n",
    "        covid += 1"
   ]
  },
  {
   "cell_type": "code",
   "execution_count": 30,
   "id": "c8d96b35",
   "metadata": {},
   "outputs": [],
   "source": [
    "val_imgs = []\n",
    "\n",
    "for img_path in img_paths:\n",
    "    img = cv2.imread(img_path)                 # read file \n",
    "    img = cv2.cvtColor(img, cv2.COLOR_BGR2RGB) # arrange format as per kera\n",
    "    img = cv2.resize(img,(224,224))            # resize as per model\n",
    "    val_imgs.append(img)  "
   ]
  },
  {
   "cell_type": "code",
   "execution_count": 31,
   "id": "a901aa36",
   "metadata": {},
   "outputs": [],
   "source": [
    "# Load the model that was trained above\n",
    "model = keras.models.load_model(\"densenet201_ct.h5\")\n",
    "\n",
    "last_conv_layer = \"conv5_block32_concat\"\n",
    "\n",
    "def get_img_array(img_path, size):\n",
    "    img = keras.preprocessing.image.load_img(img_path, target_size=size) # `img` is a PIL image of size 224x224\n",
    "    array = keras.preprocessing.image.img_to_array(img)                  # `array` is a float32 Numpy array of shape (224, 224, 3)\n",
    "    # We add a dimension to transform our array into a \"batch\"\n",
    "    # of size (1, 224, 224, 3)\n",
    "    array = np.expand_dims(array, axis=0)\n",
    "    return array\n",
    "\n",
    "def make_gradcam_heatmap(img_array, model, last_conv_layer_name, pred_index=None):\n",
    "    # First, create a model that maps the input image to the activations\n",
    "    # of the last conv layer as well as the output predictions\n",
    "    grad_model = tf.keras.models.Model(\n",
    "        [model.inputs], [model.get_layer(last_conv_layer_name).output, model.output]\n",
    "    )\n",
    "\n",
    "    # Then, compute the gradient of the top predicted class for our input image\n",
    "    # with respect to the activations of the last conv layer\n",
    "    with tf.GradientTape() as tape:\n",
    "        last_conv_layer_output, preds = grad_model(img_array)\n",
    "        if pred_index is None:\n",
    "            pred_index = tf.argmax(preds[0])\n",
    "        class_channel = preds[:, pred_index]\n",
    "\n",
    "    # This is the gradient of the output neuron (top predicted)\n",
    "    grads = tape.gradient(class_channel, last_conv_layer_output)\n",
    "\n",
    "    # This is a vector where each entry is the mean intensity of the gradient\n",
    "    # over a specific feature map channel\n",
    "    pooled_grads = tf.reduce_mean(grads, axis=(0, 1, 2))\n",
    "\n",
    "    # Multiply each channel in the feature map array\n",
    "    # by \"how important this channel is\" with regard to the top predicted class\n",
    "    # then sum all the channels to obtain the heatmap class activation\n",
    "    last_conv_layer_output = last_conv_layer_output[0]\n",
    "    heatmap_1 = last_conv_layer_output @ pooled_grads[..., tf.newaxis]\n",
    "    heatmap = tf.squeeze(heatmap_1)\n",
    "\n",
    "    # For visualization purpose, also normalize the heatmap between 0 & 1\n",
    "    heatmap = tf.maximum(heatmap, 0) / tf.math.reduce_max(heatmap)\n",
    "    return heatmap.numpy()"
   ]
  },
  {
   "cell_type": "code",
   "execution_count": 32,
   "id": "99b267a4",
   "metadata": {},
   "outputs": [],
   "source": [
    "# Remove last layer's softmax\n",
    "model.layers[-1].activation = None"
   ]
  },
  {
   "cell_type": "code",
   "execution_count": 33,
   "id": "89ce0b2b",
   "metadata": {},
   "outputs": [],
   "source": [
    "# Display\n",
    "from IPython.display import Image, display\n",
    "import matplotlib.cm as cm\n",
    "\n",
    "def create_gradcam(img_br, heatmap, cam_path=\"cam.jpg\", alpha=0.3):\n",
    "    heatmap = np.uint8(255 * heatmap)        # rescale heatmap to a range 0-255\n",
    "\n",
    "    jet = cm.get_cmap(\"jet\")                 # use jet colormap to colorize heatmap\n",
    "\n",
    "    jet_colors = jet(np.arange(256))[:, :3]  # use RGB values of the colormap\n",
    "    jet_heatmap = jet_colors[heatmap]\n",
    "\n",
    "    # Create an image with RGB colorized heatmap\n",
    "    jet_heatmap = keras.preprocessing.image.array_to_img(jet_heatmap)\n",
    "    jet_heatmap = jet_heatmap.resize((img_br.shape[1], img_br.shape[0]))\n",
    "    jet_heatmap = keras.preprocessing.image.img_to_array(jet_heatmap)\n",
    "\n",
    "    # Superimpose the heatmap on original image\n",
    "    superimposed_img = jet_heatmap * alpha + img\n",
    "    superimposed_img = np.minimum(superimposed_img, 255.0).astype(np.uint8)  # scale 0 to 255  \n",
    "    superimposed_img_rgb = keras.preprocessing.image.array_to_img(superimposed_img)\n",
    "    \n",
    "    return superimposed_img_rgb"
   ]
  },
  {
   "cell_type": "code",
   "execution_count": 34,
   "id": "f47d851f",
   "metadata": {},
   "outputs": [],
   "source": [
    "# Use this snippet of code to apply grad-cam and create a folder with those images\n",
    "import shutil\n",
    "\n",
    "for i, img in enumerate(val_imgs):\n",
    "    grad_cam = make_gradcam_heatmap(np.expand_dims(img, axis=0), model, last_conv_layer)\n",
    "    grad_cam_emphasized = create_gradcam(img, grad_cam, cam_path=\"cam.jpg\", alpha=0.3)\n",
    "    \n",
    "    file_destination_path = os.path.join('.\\\\deep\\\\kaggle\\\\grad_cam_images', os.path.splitext(os.path.basename(img_paths[i]))[0])\n",
    "    grad_cam_emphasized.save(file_destination_path + \".png\")"
   ]
  },
  {
   "cell_type": "code",
   "execution_count": null,
   "id": "2e0c33d3",
   "metadata": {
    "collapsed": true
   },
   "outputs": [],
   "source": [
    "import shutil\n",
    "\n",
    "# Visualize five random images\n",
    "plt.figure(figsize=(8, 8))\n",
    "\n",
    "for i, img in enumerate(val_imgs[:5], 1):\n",
    "    ax = plt.subplot(1, 5, i)\n",
    "    grad_cam = make_gradcam_heatmap(np.expand_dims(img, axis=0), model, last_conv_layer)\n",
    "    grad_cam_emphasized = create_gradcam(img, grad_cam, cam_path=\"cam.jpg\", alpha=0.4)\n",
    "    plt.axis('off')\n",
    "    plt.imshow(grad_cam_emphasized)\n",
    "plt.tight_layout()"
   ]
  }
 ],
 "metadata": {
  "kernelspec": {
   "display_name": "Python 3 (ipykernel)",
   "language": "python",
   "name": "python3"
  },
  "language_info": {
   "codemirror_mode": {
    "name": "ipython",
    "version": 3
   },
   "file_extension": ".py",
   "mimetype": "text/x-python",
   "name": "python",
   "nbconvert_exporter": "python",
   "pygments_lexer": "ipython3",
   "version": "3.10.4"
  }
 },
 "nbformat": 4,
 "nbformat_minor": 5
}
